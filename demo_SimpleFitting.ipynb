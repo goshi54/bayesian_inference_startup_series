{
 "cells": [
  {
   "cell_type": "code",
   "execution_count": 1,
   "metadata": {},
   "outputs": [],
   "source": [
    "using PyPlot, PyCall\n",
    "using Distributions"
   ]
  },
  {
   "cell_type": "code",
   "execution_count": 2,
   "metadata": {},
   "outputs": [
    {
     "data": {
      "text/plain": [
       "2.4"
      ]
     },
     "execution_count": 2,
     "metadata": {},
     "output_type": "execute_result"
    }
   ],
   "source": [
    "W = [1.0, 0.0, 1.0]\n",
    "σ = 0.5\n",
    "N = 20\n",
    "X = range(-0.4, 2.4, length=N)\n",
    "Y = [W[1] + W[2]*x + W[3]*x^2 + σ*randn() for x in X]\n",
    "X_min = minimum(X)\n",
    "X_max = maximum(X)"
   ]
  },
  {
   "cell_type": "markdown",
   "metadata": {},
   "source": [
    "# single regression"
   ]
  },
  {
   "cell_type": "markdown",
   "metadata": {},
   "source": [
    "\\begin{align}\n",
    "        y = w_1x\n",
    "\\end{align}"
   ]
  },
  {
   "cell_type": "markdown",
   "metadata": {},
   "source": [
    "\n",
    "\\begin{align}\n",
    "       E = \\sum_{i=0}^N(y_i - w_1 x_i)^2\n",
    "\\end{align}\n",
    "\n",
    "\n",
    "\\begin{align}\n",
    "       \\frac{\\partial E}{\\partial w_1}  \n",
    "                                     &=2\\sum_{i}(y_i - w_1x_i)(-x_i) \\\\ \n",
    "                                     &=2\\sum_{i}(-y_i x_i + w_1x_i ^2)  = 0 \\\\\n",
    "\\therefore  w_1 &= \\frac{\\sum_{i} y_i x_i}{\\sum_{i} x_i^2}\n",
    "\\end{align}"
   ]
  },
  {
   "cell_type": "code",
   "execution_count": 49,
   "metadata": {},
   "outputs": [
    {
     "data": {
      "text/plain": [
       "100-element Array{Float64,1}:\n",
       " -0.9779224337899971 \n",
       " -0.908776403117977  \n",
       " -0.8396303724459571 \n",
       " -0.770484341773937  \n",
       " -0.7013383111019171 \n",
       " -0.6321922804298971 \n",
       " -0.5630462497578771 \n",
       " -0.4939002190858571 \n",
       " -0.4247541884138371 \n",
       " -0.3556081577418171 \n",
       " -0.2864621270697971 \n",
       " -0.21731609639777713\n",
       " -0.14817006572575714\n",
       "  ⋮                  \n",
       "  5.106928265347762  \n",
       "  5.176074296019782  \n",
       "  5.245220326691802  \n",
       "  5.314366357363822  \n",
       "  5.383512388035842  \n",
       "  5.452658418707863  \n",
       "  5.521804449379882  \n",
       "  5.5909504800519025 \n",
       "  5.660096510723922  \n",
       "  5.7292425413959425 \n",
       "  5.798388572067963  \n",
       "  5.867534602739982  "
      ]
     },
     "execution_count": 49,
     "metadata": {},
     "output_type": "execute_result"
    }
   ],
   "source": [
    "X_all = range(X_min, X_max, length=100)\n",
    "W₁ = sum(Y .* X) / sum(X .^ 2)\n",
    "Y1 = [W₁*x for x in X_all]"
   ]
  },
  {
   "cell_type": "markdown",
   "metadata": {},
   "source": [
    "# multiple regression"
   ]
  },
  {
   "cell_type": "markdown",
   "metadata": {},
   "source": [
    "$$\n",
    "y = w_0 + w_1x_1 + \\cdots  + w_Nx_N\n",
    "$$"
   ]
  },
  {
   "cell_type": "markdown",
   "metadata": {},
   "source": [
    "$$\n",
    " \\mathbf y = \\mathbf X \\mathbf w\n",
    "$$\n",
    "\n",
    "\n",
    "\\begin{align}\n",
    "  \\mathbf y = \\left(\n",
    "    \\begin{array}{cccc}\n",
    "      y_{0} \\\\\n",
    "      y_{1} \\\\\n",
    "      \\vdots \\\\\n",
    "      y_{N} \n",
    "    \\end{array}\n",
    "  \\right)\n",
    "\\end{align}\n",
    "\n",
    "\n",
    "\n",
    "\n",
    "\\begin{align}\n",
    "  \\mathbf X = \\left(\n",
    "    \\begin{array}{}\n",
    "      1 & x_{11} & \\ldots &  x_{1M} \\\\\n",
    "      1 & x_{21} & \\ldots & x_{2M} \\\\\n",
    "      \\vdots & \\vdots & \\ddots & \\vdots \\\\\n",
    "      1 & x_{N2} & \\ldots & x_{NM}\n",
    "    \\end{array}\n",
    "  \\right)\n",
    "\\end{align}\n",
    "\n",
    "\\begin{align}\n",
    "  \\mathbf w = \\left(\n",
    "    \\begin{array}{cccc}\n",
    "      w_{0} \\\\\n",
    "      w_{1} \\\\\n",
    "      \\vdots \\\\\n",
    "      w_{N} \n",
    "    \\end{array}\n",
    "  \\right)\n",
    "\\end{align}\n"
   ]
  },
  {
   "cell_type": "markdown",
   "metadata": {},
   "source": [
    "\n",
    "\\begin{align}\n",
    "  E(\\mathbf w) &= (\\mathbf y - \\mathbf X \\mathbf w)^T(\\mathbf y - \\mathbf X \\mathbf w) \\\\\n",
    "       &= \\mathbf y^T \\mathbf y - 2 \\mathbf y^T \\mathbf X \\mathbf w + \\mathbf w^T \\mathbf X^T \\mathbf X \\mathbf w \\\\\n",
    "\\therefore  \\mathbf w &= (\\mathbf X^T \\mathbf X)^{-1}\\mathbf X^T \\mathbf y\n",
    "\\end{align}\n",
    "\n"
   ]
  },
  {
   "cell_type": "code",
   "execution_count": 50,
   "metadata": {},
   "outputs": [
    {
     "data": {
      "text/plain": [
       "100-element Array{Float64,1}:\n",
       " 0.957166910323458 \n",
       " 0.9353405660728713\n",
       " 0.9151140585736366\n",
       " 0.8964873878257537\n",
       " 0.8794605538292227\n",
       " 0.8640335565840437\n",
       " 0.8502063960902165\n",
       " 0.8379790723477413\n",
       " 0.8273515853566179\n",
       " 0.8183239351168464\n",
       " 0.8108961216284268\n",
       " 0.8050681448913592\n",
       " 0.8008400049056434\n",
       " ⋮                 \n",
       " 5.160623700446916 \n",
       " 5.279582990315295 \n",
       " 5.4001421169350285\n",
       " 5.5223010803061126\n",
       " 5.64605988042855  \n",
       " 5.7714185173023385\n",
       " 5.898376990927478 \n",
       " 6.026935301303971 \n",
       " 6.157093448431814 \n",
       " 6.28885143231101  \n",
       " 6.422209252941559 \n",
       " 6.557166910323458 "
      ]
     },
     "execution_count": 50,
     "metadata": {},
     "output_type": "execute_result"
    }
   ],
   "source": [
    "X2 = zeros(N, 3)\n",
    "X2[:, 1] .= 1\n",
    "X2[:, 2] = X\n",
    "X2[:, 3] = X.^2\n",
    "W2 = inv(X2'*X2)*X2'*Y\n",
    "Y2 = [W2[1] + W[2]*x + W[3]*x^2 for x in X_all]"
   ]
  },
  {
   "cell_type": "markdown",
   "metadata": {},
   "source": [
    "# Plot"
   ]
  },
  {
   "cell_type": "code",
   "execution_count": 51,
   "metadata": {},
   "outputs": [
    {
     "data": {
      "image/png": "[encoded data removed]",
      "text/plain": [
       "Figure(PyObject <Figure size 640x480 with 1 Axes>)"
      ]
     },
     "metadata": {},
     "output_type": "display_data"
    }
   ],
   "source": [
    "figure()\n",
    "plot(X_all, Y1, \"b-\")\n",
    "plot(X_all, Y2, \"g-\")\n",
    "plot(X, Y, \"ko\")\n",
    "show()"
   ]
  },
  {
   "cell_type": "code",
   "execution_count": null,
   "metadata": {},
   "outputs": [],
   "source": []
  }
 ],
 "metadata": {
  "@webio": {
   "lastCommId": null,
   "lastKernelId": null
  },
  "kernelspec": {
   "display_name": "Julia 1.2.0",
   "language": "julia",
   "name": "julia-1.2"
  },
  "language_info": {
   "file_extension": ".jl",
   "mimetype": "application/julia",
   "name": "julia",
   "version": "1.2.0"
  }
 },
 "nbformat": 4,
 "nbformat_minor": 2
}
